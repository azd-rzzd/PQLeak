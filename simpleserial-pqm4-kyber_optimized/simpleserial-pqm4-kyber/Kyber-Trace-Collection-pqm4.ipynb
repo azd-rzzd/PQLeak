{
 "cells": [
  {
   "cell_type": "code",
   "execution_count": 1,
   "id": "563bfabe",
   "metadata": {
    "pycharm": {
     "name": "#%%\n"
    }
   },
   "outputs": [],
   "source": [
    "#make SS_VER=SS_VER_1_1 PLATFORM=CW308_STM32F4 CRYPTO_TARGET=NONE CRYPTO_PATH=mkm4-main --trace\n",
    "import chipwhisperer as cw\n",
    "scope = cw.scope()\n",
    "# target = cw.target(scope, cw.targets.SimpleSerial)\n",
    "target = cw.target(scope, cw.targets.SimpleSerial2)"
   ]
  },
  {
   "cell_type": "code",
   "execution_count": 2,
   "id": "4adeb6b4",
   "metadata": {
    "pycharm": {
     "name": "#%%\n"
    }
   },
   "outputs": [],
   "source": [
    "SCOPETYPE = 'OPENADC'\n",
    "PLATFORM = 'CW308_STM32F4'\n",
    "CRYPTO_TARGET = 'NONE'\n",
    "# SS_VER='SS_VER_1_1'\n",
    "CRYPTO_PATH = 'Kyber768'\n",
    "SS_VER='SS_VER_2_1'"
   ]
  },
  {
   "cell_type": "code",
   "execution_count": 12,
   "id": "0100d98e",
   "metadata": {
    "pycharm": {
     "name": "#%%\n"
    },
    "scrolled": true
   },
   "outputs": [
    {
     "name": "stdout",
     "output_type": "stream",
     "text": [
      "Building for platform CW308_STM32F4 with CRYPTO_TARGET=NONE\n",
      "SS_VER set to SS_VER_2_1\n",
      "SS_VER set to SS_VER_2_1\n",
      "Building for platform CW308_STM32F4 with CRYPTO_TARGET=NONE\n",
      "SS_VER set to SS_VER_2_1\n",
      "SS_VER set to SS_VER_2_1\n",
      "#@rm -f -- simpleserial-kyber.i pqm4/crypto_kem/ml-kem-768/m4fspeed/cbd.i pqm4/crypto_kem/ml-kem-768/m4fspeed/indcpa.i pqm4/crypto_kem/ml-kem-768/m4fspeed/kem.i pqm4/crypto_kem/ml-kem-768/m4fspeed/matacc.i pqm4/crypto_kem/ml-kem-768/m4fspeed/ntt.i pqm4/crypto_kem/ml-kem-768/m4fspeed/poly.i pqm4/crypto_kem/ml-kem-768/m4fspeed/polyvec.i pqm4/crypto_kem/ml-kem-768/m4fspeed/symmetric-fips202.i pqm4/crypto_kem/ml-kem-768/m4fspeed/verify.i pqm4/common/aes.i pqm4/common/aes-publicinputs.i pqm4/common/crypto_hashblocks_sha512.i pqm4/common/hal-stm32f4.i pqm4/common/randombytes.i pqm4/libopencm3/lib/stm32/common/rng_common_v1.i pqm4/mupq/common/fips202.i simpleserial.i simpleserial.i stm32f4_hal.i stm32f4_hal_lowlevel.i stm32f4_sysmem.i stm32f4xx_hal_rng.i\n",
      "make[1]: '.dep' is up to date.\n",
      "Building for platform CW308_STM32F4 with CRYPTO_TARGET=NONE\n",
      "SS_VER set to SS_VER_2_1\n",
      "SS_VER set to SS_VER_2_1\n",
      ".\n",
      "Welcome to another exciting ChipWhisperer target build!!\n",
      "arm-none-eabi-gcc (Arm GNU Toolchain 11.3.Rel1) 11.3.1 20220712\n",
      "Copyright (C) 2021 Free Software Foundation, Inc.\n",
      "This is free software; see the source for copying conditions.  There is NO\n",
      "warranty; not even for MERCHANTABILITY or FITNESS FOR A PARTICULAR PURPOSE.\n",
      "\n",
      ".\n",
      "mkdir -p objdir-CW308_STM32F4/\n",
      "Compiling:\n",
      "-en     simpleserial-kyber.c ...\n",
      "-e Done!\n",
      ".\n",
      "mkdir -p objdir-CW308_STM32F4/pqm4/crypto_kem/ml-kem-768/m4fspeed/\n",
      "Compiling:\n",
      "-en     pqm4/crypto_kem/ml-kem-768/m4fspeed/indcpa.c ...\n",
      "-e Done!\n",
      ".\n",
      "mkdir -p objdir-CW308_STM32F4/pqm4/crypto_kem/ml-kem-768/m4fspeed/\n",
      "Compiling:\n",
      "-en     pqm4/crypto_kem/ml-kem-768/m4fspeed/kem.c ...\n",
      "-e Done!\n",
      ".\n",
      "mkdir -p objdir-CW308_STM32F4/\n",
      "Compiling:\n",
      "-en     .././simpleserial/simpleserial.c ...\n",
      "-e Done!\n",
      ".\n",
      "mkdir -p objdir-CW308_STM32F4/\n",
      "Compiling:\n",
      "-en     .././hal/stm32f4/stm32f4_hal.c ...\n",
      "-e Done!\n",
      ".\n",
      "mkdir -p objdir-CW308_STM32F4/\n",
      "Compiling:\n",
      "-en     .././hal/stm32f4/stm32f4_hal_lowlevel.c ...\n",
      "-e Done!\n",
      ".\n",
      "mkdir -p objdir-CW308_STM32F4/\n",
      "Compiling:\n",
      "-en     .././hal/stm32f4/stm32f4_sysmem.c ...\n",
      "-e Done!\n",
      ".\n",
      "mkdir -p objdir-CW308_STM32F4/\n",
      "Compiling:\n",
      "-en     .././hal/stm32f4/stm32f4xx_hal_rng.c ...\n",
      "-e Done!\n",
      ".\n",
      "mkdir -p objdir-CW308_STM32F4/\n",
      "Assembling: .././hal/stm32f4/stm32f4_startup.S\n",
      "arm-none-eabi-gcc -c -mcpu=cortex-m4 -I. -x assembler-with-cpp -mthumb -mfloat-abi=hard -mfpu=fpv4-sp-d16 -fmessage-length=0 -ffunction-sections -DF_CPU=7372800 -Wa,-gstabs,-adhlns=objdir-CW308_STM32F4/stm32f4_startup.lst -Ipqm4/crypto_kem/ml-kem-768/m4fspeed/ -Ipqm4/mupq/common -Ipqm4/libopencm3/include/ -Ipqm4/libopencm3/lib/ -I.././simpleserial/ -I.././simpleserial/ -I.././hal -I.././hal/stm32f4 -I.././hal/stm32f4/CMSIS -I.././hal/stm32f4/CMSIS/core -I.././hal/stm32f4/CMSIS/device -I.././hal/stm32f4/Legacy -I.././crypto/ .././hal/stm32f4/stm32f4_startup.S -o objdir-CW308_STM32F4/stm32f4_startup.o\n",
      ".\n",
      "LINKING:\n",
      "-en     simpleserial-kyber-CW308_STM32F4.elf ...\n"
     ]
    },
    {
     "name": "stderr",
     "output_type": "stream",
     "text": [
      "/opt/arm-gnu-toolchain-11.3.rel1-x86_64-arm-none-eabi/bin/../lib/gcc/arm-none-eabi/11.3.1/../../../../arm-none-eabi/bin/ld: /opt/arm-gnu-toolchain-11.3.rel1-x86_64-arm-none-eabi/bin/../lib/gcc/arm-none-eabi/11.3.1/../../../../arm-none-eabi/lib/thumb/v7e-m+fp/hard/libg.a(libc_a-closer.o): in function `_close_r':\n",
      "/data/jenkins/workspace/GNU-toolchain/arm-11/src/newlib-cygwin/newlib/libc/reent/closer.c:47: warning: _close is not implemented and will always fail\n",
      "/opt/arm-gnu-toolchain-11.3.rel1-x86_64-arm-none-eabi/bin/../lib/gcc/arm-none-eabi/11.3.1/../../../../arm-none-eabi/bin/ld: /opt/arm-gnu-toolchain-11.3.rel1-x86_64-arm-none-eabi/bin/../lib/gcc/arm-none-eabi/11.3.1/../../../../arm-none-eabi/lib/thumb/v7e-m+fp/hard/libg.a(libc_a-lseekr.o): in function `_lseek_r':\n",
      "/data/jenkins/workspace/GNU-toolchain/arm-11/src/newlib-cygwin/newlib/libc/reent/lseekr.c:49: warning: _lseek is not implemented and will always fail\n",
      "/opt/arm-gnu-toolchain-11.3.rel1-x86_64-arm-none-eabi/bin/../lib/gcc/arm-none-eabi/11.3.1/../../../../arm-none-eabi/bin/ld: /opt/arm-gnu-toolchain-11.3.rel1-x86_64-arm-none-eabi/bin/../lib/gcc/arm-none-eabi/11.3.1/../../../../arm-none-eabi/lib/thumb/v7e-m+fp/hard/libg.a(libc_a-readr.o): in function `_read_r':\n",
      "/data/jenkins/workspace/GNU-toolchain/arm-11/src/newlib-cygwin/newlib/libc/reent/readr.c:49: warning: _read is not implemented and will always fail\n",
      "/opt/arm-gnu-toolchain-11.3.rel1-x86_64-arm-none-eabi/bin/../lib/gcc/arm-none-eabi/11.3.1/../../../../arm-none-eabi/bin/ld: /opt/arm-gnu-toolchain-11.3.rel1-x86_64-arm-none-eabi/bin/../lib/gcc/arm-none-eabi/11.3.1/../../../../arm-none-eabi/lib/thumb/v7e-m+fp/hard/libg.a(libc_a-writer.o): in function `_write_r':\n",
      "/data/jenkins/workspace/GNU-toolchain/arm-11/src/newlib-cygwin/newlib/libc/reent/writer.c:49: warning: _write is not implemented and will always fail\n"
     ]
    },
    {
     "name": "stdout",
     "output_type": "stream",
     "text": [
      "-e Done!\n",
      ".\n",
      "Creating load file for Flash: simpleserial-kyber-CW308_STM32F4.hex\n",
      "arm-none-eabi-objcopy -O ihex -R .eeprom -R .fuse -R .lock -R .signature simpleserial-kyber-CW308_STM32F4.elf simpleserial-kyber-CW308_STM32F4.hex\n",
      ".\n",
      "Creating load file for Flash: simpleserial-kyber-CW308_STM32F4.bin\n",
      "arm-none-eabi-objcopy -O binary -R .eeprom -R .fuse -R .lock -R .signature simpleserial-kyber-CW308_STM32F4.elf simpleserial-kyber-CW308_STM32F4.bin\n",
      ".\n",
      "Creating load file for EEPROM: simpleserial-kyber-CW308_STM32F4.eep\n",
      "arm-none-eabi-objcopy -j .eeprom --set-section-flags=.eeprom=\"alloc,load\" \\\n",
      "--change-section-lma .eeprom=0 --no-change-warnings -O ihex simpleserial-kyber-CW308_STM32F4.elf simpleserial-kyber-CW308_STM32F4.eep || exit 0\n",
      ".\n",
      "Creating Extended Listing: simpleserial-kyber-CW308_STM32F4.lss\n",
      "arm-none-eabi-objdump -h -S -z simpleserial-kyber-CW308_STM32F4.elf > simpleserial-kyber-CW308_STM32F4.lss\n",
      ".\n",
      "Creating Symbol Table: simpleserial-kyber-CW308_STM32F4.sym\n",
      "arm-none-eabi-nm -n simpleserial-kyber-CW308_STM32F4.elf > simpleserial-kyber-CW308_STM32F4.sym\n",
      "Building for platform CW308_STM32F4 with CRYPTO_TARGET=NONE\n",
      "SS_VER set to SS_VER_2_1\n",
      "SS_VER set to SS_VER_2_1\n",
      "Size after:\n",
      "   text\t   data\t    bss\t    dec\t    hex\tfilename\n",
      "  28388\t     16\t   6636\t  35040\t   88e0\tsimpleserial-kyber-CW308_STM32F4.elf\n",
      "+--------------------------------------------------------\n",
      "+ Default target does full rebuild each time.\n",
      "+ Specify buildtarget == allquick == to avoid full rebuild\n",
      "+--------------------------------------------------------\n",
      "+--------------------------------------------------------\n",
      "+ Built for platform CW308T: STM32F4 Target with:\n",
      "+ CRYPTO_TARGET = NONE\n",
      "+ CRYPTO_OPTIONS = \n",
      "+--------------------------------------------------------\n"
     ]
    }
   ],
   "source": [
    "%%bash -s \"$SS_VER\" \"$PLATFORM\" \"$CRYPTO_TARGET\" \"$CRYPTO_PATH\"\n",
    "make SS_VER=$1 PLATFORM=$2 CRYPTO_TARGET=$3 CRYPTO_PATH=$4"
   ]
  },
  {
   "cell_type": "code",
   "execution_count": 13,
   "id": "04943997",
   "metadata": {
    "pycharm": {
     "name": "#%%\n"
    }
   },
   "outputs": [
    {
     "name": "stdout",
     "output_type": "stream",
     "text": [
      "INFO: Found ChipWhisperer😍\n"
     ]
    }
   ],
   "source": [
    "%run \"../../../../jupyter/Setup_Scripts/Setup_Generic.ipynb\""
   ]
  },
  {
   "cell_type": "code",
   "execution_count": 14,
   "id": "3d40bcc6",
   "metadata": {
    "pycharm": {
     "name": "#%%\n"
    }
   },
   "outputs": [
    {
     "name": "stdout",
     "output_type": "stream",
     "text": [
      "Detected known STMF32: STM32F40xxx/41xxx\n",
      "Extended erase (0x44), this can take ten seconds or more\n",
      "Attempting to program 28523 bytes at 0x8000000\n",
      "STM32F Programming flash...\n",
      "STM32F Reading flash...\n",
      "Verified flash OK, 28523 bytes\n"
     ]
    }
   ],
   "source": [
    "fw_path = \"simpleserial-kyber-{}.hex\".format(PLATFORM)\n",
    "cw.program_target(scope, prog, fw_path)"
   ]
  },
  {
   "cell_type": "code",
   "execution_count": 16,
   "id": "fdc528d6",
   "metadata": {
    "pycharm": {
     "name": "#%%\n"
    }
   },
   "outputs": [
    {
     "data": {
      "image/png": "[encoded data removed]",
      "text/plain": [
       "<Figure size 640x480 with 1 Axes>"
      ]
     },
     "metadata": {},
     "output_type": "display_data"
    }
   ],
   "source": [
    "import matplotlib.pyplot as plt\n",
    "import h5py\n",
    "# Command\n",
    "CMD_KYBER = 'a'\n",
    "CMD_ECHO_TEST = 's'\n",
    "CMD_READ = 'r'\n",
    "CMD_SEND_CHAR = 'b'\n",
    "CMD_SND_SK = 'k'\n",
    "\n",
    "data = bytearray([])\n",
    "# data = bytearray([0x11, 0x12, 0x13, 0x14, 0x15, 0x16, 0x17, 0x18, 0x19])\n",
    "# print(data)\n",
    "from tqdm import tnrange, trange\n",
    "import numpy as np\n",
    "import time\n",
    "\n",
    "traces = []\n",
    "N = 100\n",
    "\n",
    "scope.clock.clkgen_mul = 2\n",
    "# scope.clock.adc_src = \"clkgen_x4\"\n",
    "# scope.clock.reset_clkgen()\n",
    "\n",
    "\n",
    "# The number of samples that the scope should collect in each measurement.\n",
    "# scope.adc.decimate = 1\n",
    "scope.default_setup()\n",
    "scope.adc.samples = 10740\n",
    "\n",
    "chunk_size = 151\n",
    "num_chunk =16\n",
    "ALL_SK = []\n",
    "ALL_MP = []\n",
    "ALL_INPUT_SP = []\n",
    "ALL_OUTPUT_SP = []\n",
    "key_gen_coin = []\n",
    "shared_key = []\n",
    "encap_coin = []\n",
    "\n",
    "for i in range(N):\n",
    "    SK = []\n",
    "    MP = []\n",
    "    SP_IN = []\n",
    "    SP_OUT = []\n",
    "    reset_target(scope)\n",
    "    target.flush()\n",
    "    scope.arm()\n",
    "    target.send_cmd(CMD_KYBER, 0x00, data)\n",
    "    \n",
    "    # To read key pair generation coin from the UART buffer\n",
    "    response = target.read_cmd(cmd=CMD_READ, pay_len=None, timeout=250)\n",
    "#     print(len(response))\n",
    "    target.write(CMD_SEND_CHAR)\n",
    "    key_gen_coin.append(list(response[3:35]))\n",
    "    \n",
    "    # To read encapsulation coin from the UART buffer\n",
    "    response = target.read_cmd(cmd=CMD_READ, pay_len=None, timeout=250)\n",
    "#     print(len(response))\n",
    "    target.write(CMD_SEND_CHAR)\n",
    "    encap_coin.append(list(response[3:35]))\n",
    "    \n",
    "    # To read SP_input (the noise in encapsuation). Its size is 1536 bytes. 192*8 =1536\n",
    "    for j in range(12):\n",
    "        response = target.read_cmd(cmd=CMD_READ, pay_len=None, timeout=250)\n",
    "#         print(len(response))\n",
    "        SP_IN.append(list(response[3:131]))\n",
    "        target.write(CMD_SEND_CHAR)\n",
    "    flatten_SP_IN = list(np.concatenate(SP_IN).flat)\n",
    "#     print(len(flatten_SP))\n",
    "    ALL_INPUT_SP.append(flatten_SP_IN)\n",
    "    \n",
    "    scope.capture()\n",
    "    \n",
    "    # To read SP_output (the noise in encapsuation). Its size is 1536 bytes. 192*8 =1536\n",
    "    for j in range(12):\n",
    "        response = target.read_cmd(cmd=CMD_READ, pay_len=None, timeout=250)\n",
    "#         print(len(response))\n",
    "        SP_OUT.append(list(response[3:131]))\n",
    "        target.write(CMD_SEND_CHAR)\n",
    "    flatten_SP_OUT = list(np.concatenate(SP_OUT).flat)\n",
    "#     print(len(flatten_SP))\n",
    "    ALL_OUTPUT_SP.append(flatten_SP_OUT)\n",
    "    \n",
    "     # To read shared-key from the UART buffer\n",
    "    response = target.read_cmd(cmd=CMD_READ, pay_len=None, timeout=250)\n",
    "#     print(len(response))\n",
    "    target.write(CMD_SEND_CHAR)\n",
    "    shared_key.append(list(response[11:43]))\n",
    "    \n",
    "    # To read PK from the UART buffer in chunks\n",
    "    for j in range(4):\n",
    "        response = target.read_cmd(cmd=CMD_READ, pay_len=None, timeout=250)\n",
    "#         print(len(response))\n",
    "        MP.append(list(response[3:131]))\n",
    "        target.write(CMD_SEND_CHAR)\n",
    "    flatten_MP = list(np.concatenate(MP).flat)\n",
    "#     print(len(flatten_MP))\n",
    "\n",
    "    for q in range(256):\n",
    "        first_byte = flatten_MP[2*q]\n",
    "        second_byte = flatten_MP[2*q+1]\n",
    "        coeff = bytes([first_byte, second_byte ])\n",
    "#         print(first_byte, second_byte, coeff)\n",
    "#         print(int.from_bytes(coeff, byteorder='little', signed=True), coeff)\n",
    "    # print(len(flatten_MP))\n",
    "    ALL_MP.append(flatten_MP)\n",
    "\n",
    "    # To read SK from the UART buffer in chunks\n",
    "    for j in range(num_chunk):\n",
    "        response = target.read_cmd(cmd=CMD_READ, pay_len=None, timeout=250)\n",
    "        if(j==0):\n",
    "            SK.append(list(response[11:154]))\n",
    "        elif(j==num_chunk-1):\n",
    "            SK.append(list(response[3:146]))\n",
    "        else:\n",
    "            SK.append(list(response[3:154]))\n",
    "        target.write(CMD_SEND_CHAR)\n",
    "\n",
    "    flatten_SK = list(np.concatenate(SK).flat)\n",
    "    # print(len(flatten_SK))\n",
    "    ALL_SK.append(flatten_SK)\n",
    "    \n",
    "    trace = scope.get_last_trace(as_int=False)\n",
    "    # print(len(trace))\n",
    "    if trace is None:\n",
    "        continue\n",
    "    traces.append(trace)\n",
    "    # print(scope.adc.trig_count)\n",
    "\n",
    "data_dict = {\n",
    "    'Profiling_traces': {\n",
    "        'Traces': np.asarray(traces),\n",
    "        'Ciphertext': np.asarray(ALL_MP),\n",
    "        'Secret_Key': np.asarray(ALL_SK),\n",
    "        'Shared_Key': np.asarray(shared_key),\n",
    "        'NTT_IN_Coefficients': np.asarray(ALL_INPUT_SP),\n",
    "        'NTT_OUT_Coefficients': np.asarray(ALL_OUTPUT_SP),\n",
    "        'Key_Generation_coin': np.asarray(key_gen_coin),\n",
    "        'Encapsulation_coin': np.asarray(encap_coin),\n",
    "        },\n",
    "}\n",
    "\n",
    "h5f = h5py.File('Profiling_Dataset_8_7.h5', 'w')\n",
    "for grp_name in data_dict:\n",
    "    grp = h5f.create_group(grp_name)\n",
    "    for dset_name in data_dict[grp_name]:\n",
    "        dset = grp.create_dataset(dset_name, data=data_dict[grp_name][dset_name])\n",
    "h5f.close()\n",
    "\n",
    "\n",
    "plt.plot(np.mean(np.array(traces), axis=0))\n",
    "plt.title(\"NTT: Encapsulation_ntt\")\n",
    "plt.savefig(\"encapsulation_ntt.png\")\n",
    "plt.show()"
   ]
  },
  {
   "cell_type": "code",
   "execution_count": 21,
   "id": "cc86d335",
   "metadata": {
    "pycharm": {
     "name": "#%%\n"
    }
   },
   "outputs": [],
   "source": [
    "def load_dataset(dataset_file):\n",
    "        in_file = h5py.File(dataset_file, \"r\")\n",
    "\n",
    "        train_data = np.array(in_file['Profiling_traces/Traces'])\n",
    "        Ciphertext = np.array(in_file['Profiling_traces/Ciphertext'])\n",
    "        Secret_key = np.array(in_file['Profiling_traces/Secret_Key'])        \n",
    "        Shared_Key = np.array(in_file['Profiling_traces/Shared_Key'])\n",
    "        NTT_in_coef = np.array(in_file['Profiling_traces/NTT_IN_Coefficients'])\n",
    "        NTT_out_coef = np.array(in_file['Profiling_traces/NTT_OUT_Coefficients'])\n",
    "        Key_coin = np.array(in_file['Profiling_traces/Key_Generation_coin'])\n",
    "        enc_coin = np.array(in_file['Profiling_traces/Encapsulation_coin'])\n",
    "\n",
    "        return train_data, Secret_key, Ciphertext, Shared_Key, NTT_in_coef, NTT_out_coef, Key_coin, enc_coin"
   ]
  },
  {
   "cell_type": "code",
   "execution_count": 22,
   "id": "d3a0cae0",
   "metadata": {
    "pycharm": {
     "name": "#%%\n"
    }
   },
   "outputs": [],
   "source": [
    " train_data, Secret_key, Ciphertext, Shared_Key, NTT_in_coef, NTT_out_coef, Key_coin, enc_coin = load_dataset('Profiling_Dataset_8_7.h5')"
   ]
  },
  {
   "cell_type": "code",
   "execution_count": 23,
   "id": "fd78038b",
   "metadata": {
    "pycharm": {
     "name": "#%%\n"
    }
   },
   "outputs": [
    {
     "name": "stdout",
     "output_type": "stream",
     "text": [
      "(100, 10740)\n",
      "(100, 2400)\n",
      "(100, 512)\n",
      "(100, 32)\n",
      "(100, 1536)\n",
      "(100, 1536)\n",
      "(100, 32)\n",
      "(100, 32)\n"
     ]
    }
   ],
   "source": [
    "print(train_data.shape)\n",
    "print(Secret_key.shape)\n",
    "print(Ciphertext.shape)\n",
    "print(Shared_Key.shape)\n",
    "print(NTT_in_coef.shape)\n",
    "print(NTT_out_coef.shape)\n",
    "print(Key_coin.shape)\n",
    "print(enc_coin.shape)"
   ]
  },
  {
   "cell_type": "code",
   "execution_count": 33,
   "id": "abca29fa",
   "metadata": {
    "pycharm": {
     "name": "#%%\n"
    }
   },
   "outputs": [
    {
     "name": "stdout",
     "output_type": "stream",
     "text": [
      "[  0   0   2 ... 255   1   0]\n"
     ]
    }
   ],
   "source": [
    "print(NTT_in_coef[15])"
   ]
  },
  {
   "cell_type": "code",
   "execution_count": null,
   "id": "aa4ba43b",
   "metadata": {},
   "outputs": [],
   "source": [
    "array = [hex(s) for s in Secret_key[0]]\n",
    "print(len(array))\n",
    "for i,a in enumerate(array):\n",
    "    if len(a)==3:\n",
    "        t='0x0'+a[2]\n",
    "        a=t\n",
    "        array[i] = a\n",
    "\n",
    "temp=''.join(byte[2:] for byte in array)\n",
    "print(temp)\n",
    "# print([hex(s) for s in Secret_key[0]])"
   ]
  },
  {
   "cell_type": "markdown",
   "id": "d0eedea5",
   "metadata": {},
   "source": [
    "array = [hex(s) for s in Ciphertext[0]]\n",
    "for i,a in enumerate(array):\n",
    "    if len(a)==3:\n",
    "        t='0x0'+a[2]\n",
    "        a=t\n",
    "\n",
    "        array[i] = a\n",
    "\n",
    "temp=''.join(byte[2:] for byte in array)\n",
    "print(temp)\n",
    "# print([hex(c) for c in Ciphertext[0]])"
   ]
  },
  {
   "cell_type": "code",
   "execution_count": null,
   "id": "7f0bbd43",
   "metadata": {},
   "outputs": [],
   "source": [
    "array = [hex(s) for s in Ciphertext[0]]\n",
    "for i,a in enumerate(array):\n",
    "    if len(a)==3:\n",
    "        t='0x0'+a[2]\n",
    "        a=t\n",
    "\n",
    "        array[i] = a\n",
    "\n",
    "temp=''.join(byte[2:] for byte in array)\n",
    "print(temp)"
   ]
  },
  {
   "cell_type": "code",
   "execution_count": null,
   "id": "9b875a11",
   "metadata": {},
   "outputs": [],
   "source": [
    "scope.dis()\n",
    "target.dis()"
   ]
  }
 ],
 "metadata": {
  "kernelspec": {
   "display_name": "Python 3 (ipykernel)",
   "language": "python",
   "name": "python3"
  },
  "language_info": {
   "codemirror_mode": {
    "name": "ipython",
    "version": 3
   },
   "file_extension": ".py",
   "mimetype": "text/x-python",
   "name": "python",
   "nbconvert_exporter": "python",
   "pygments_lexer": "ipython3",
   "version": "3.10.6"
  }
 },
 "nbformat": 4,
 "nbformat_minor": 5
}
